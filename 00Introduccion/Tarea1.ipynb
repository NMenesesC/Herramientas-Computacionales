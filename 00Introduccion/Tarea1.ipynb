{
 "cells": [
  {
   "cell_type": "markdown",
   "metadata": {
    "collapsed": true
   },
   "source": [
    "# Tarea 1 "
   ]
  },
  {
   "cell_type": "markdown",
   "metadata": {},
   "source": [
    "## 2. Adaptación de tarea de matlab"
   ]
  },
  {
   "cell_type": "markdown",
   "metadata": {},
   "source": [
    "2.2 Matemática simple"
   ]
  },
  {
   "cell_type": "code",
   "execution_count": 5,
   "metadata": {},
   "outputs": [
    {
     "data": {
      "text/plain": [
       "3.855"
      ]
     },
     "execution_count": 5,
     "metadata": {},
     "output_type": "execute_result"
    }
   ],
   "source": [
    "quices = 4.0\n",
    "proyectos = 4.5\n",
    "parciales = 3.0\n",
    "tareas = 4.8\n",
    "nota_definitiva = quices*0.15 + proyectos*0.35 + parciales*0.4 + tareas*0.10\n",
    "nota_definitiva"
   ]
  },
  {
   "cell_type": "code",
   "execution_count": 1,
   "metadata": {},
   "outputs": [
    {
     "data": {
      "text/plain": [
       "12"
      ]
     },
     "execution_count": 1,
     "metadata": {},
     "output_type": "execute_result"
    }
   ],
   "source": [
    "ejes = 4\n",
    "rodamientos = 6\n",
    "engranajes = 2\n",
    "objetos = ejes + rodamientos + engranajes\n",
    "objetos"
   ]
  },
  {
   "cell_type": "markdown",
   "metadata": {},
   "source": [
    "2.4 Arreglos y operaciones sobre arreglos"
   ]
  },
  {
   "cell_type": "code",
   "execution_count": 22,
   "metadata": {},
   "outputs": [
    {
     "data": {
      "text/plain": [
       "([0,\n",
       "  0.3141592653589793,\n",
       "  0.6283185307179586,\n",
       "  0.9424777960769379,\n",
       "  1.2566370614359172,\n",
       "  1.5707963267948966,\n",
       "  1.8849555921538759,\n",
       "  2.199114857512855,\n",
       "  2.5132741228718345,\n",
       "  2.827433388230814,\n",
       "  3.141592653589793],\n",
       " [0.0,\n",
       "  0.3090169943749474,\n",
       "  0.5877852522924731,\n",
       "  0.8090169943749475,\n",
       "  0.9510565162951535,\n",
       "  1.0,\n",
       "  0.9510565162951536,\n",
       "  0.8090169943749475,\n",
       "  0.5877852522924732,\n",
       "  0.3090169943749475,\n",
       "  1.2246467991473532e-16])"
      ]
     },
     "execution_count": 22,
     "metadata": {},
     "output_type": "execute_result"
    }
   ],
   "source": [
    "import math\n",
    "x = [0, .1*math.pi, .2*math.pi, .3*math.pi, .4*math.pi, .5*math.pi, .6*math.pi, .7*math.pi, .8*math.pi, .9*math.pi, math.pi]\n",
    "y = [math.sin(i) for i in x]\n",
    "x,y"
   ]
  },
  {
   "cell_type": "code",
   "execution_count": 23,
   "metadata": {},
   "outputs": [
    {
     "data": {
      "text/plain": [
       "(0.9424777960769379, 0.8090169943749475)"
      ]
     },
     "execution_count": 23,
     "metadata": {},
     "output_type": "execute_result"
    }
   ],
   "source": [
    "x[3], y[3]"
   ]
  },
  {
   "cell_type": "code",
   "execution_count": 25,
   "metadata": {},
   "outputs": [
    {
     "data": {
      "text/plain": [
       "[0,\n",
       " 0.3141592653589793,\n",
       " 0.6283185307179586,\n",
       " 0.9424777960769379,\n",
       " 1.2566370614359172]"
      ]
     },
     "execution_count": 25,
     "metadata": {},
     "output_type": "execute_result"
    }
   ],
   "source": [
    "x[0:5]"
   ]
  },
  {
   "cell_type": "code",
   "execution_count": 27,
   "metadata": {},
   "outputs": [
    {
     "data": {
      "text/plain": [
       "[2.199114857512855, 2.5132741228718345, 2.827433388230814, 3.141592653589793]"
      ]
     },
     "execution_count": 27,
     "metadata": {},
     "output_type": "execute_result"
    }
   ],
   "source": [
    "x[7:]"
   ]
  },
  {
   "cell_type": "code",
   "execution_count": 30,
   "metadata": {},
   "outputs": [
    {
     "data": {
      "text/plain": [
       "array([ 0.        ,  0.31415927,  0.62831853,  0.9424778 ,  1.25663706,\n",
       "        1.57079633,  1.88495559,  2.19911486,  2.51327412,  2.82743339,\n",
       "        3.14159265])"
      ]
     },
     "execution_count": 30,
     "metadata": {},
     "output_type": "execute_result"
    }
   ],
   "source": [
    "import numpy as np\n",
    "np.linspace(0, math.pi, 11)"
   ]
  },
  {
   "cell_type": "code",
   "execution_count": 33,
   "metadata": {},
   "outputs": [
    {
     "data": {
      "image/png": "[encoded data removed]",
      "text/plain": [
       "<matplotlib.figure.Figure at 0x7f8e1f59ad30>"
      ]
     },
     "metadata": {},
     "output_type": "display_data"
    }
   ],
   "source": [
    "import matplotlib.pyplot as plt\n",
    "plt.plot (x,y)\n",
    "plt.ylabel(\"Seno de x\")\n",
    "plt.xlabel(\"x\")\n",
    "plt.title(\"Función Seno\")\n",
    "plt.show()"
   ]
  },
  {
   "cell_type": "markdown",
   "metadata": {},
   "source": [
    "2.5 Algebra lineal"
   ]
  },
  {
   "cell_type": "code",
   "execution_count": 59,
   "metadata": {},
   "outputs": [
    {
     "data": {
      "text/plain": [
       "27.0"
      ]
     },
     "execution_count": 59,
     "metadata": {},
     "output_type": "execute_result"
    }
   ],
   "source": [
    "A = np.array([[1,2,3],[4,5,6],[7,8,0]])\n",
    "Y = np.array([366,804,351])\n",
    "np.linalg.det(A)"
   ]
  },
  {
   "cell_type": "code",
   "execution_count": 60,
   "metadata": {},
   "outputs": [
    {
     "data": {
      "text/plain": [
       "array([ 25.,  22.,  99.])"
      ]
     },
     "execution_count": 60,
     "metadata": {},
     "output_type": "execute_result"
    }
   ],
   "source": [
    "X = (np.linalg.inv(A)).dot(Y)\n",
    "X"
   ]
  },
  {
   "cell_type": "code",
   "execution_count": 61,
   "metadata": {},
   "outputs": [
    {
     "data": {
      "text/plain": [
       "array([ 25.,  22.,  99.])"
      ]
     },
     "execution_count": 61,
     "metadata": {},
     "output_type": "execute_result"
    }
   ],
   "source": [
    "X = np.linalg.solve(A,Y)\n",
    "X"
   ]
  },
  {
   "cell_type": "markdown",
   "metadata": {},
   "source": [
    "## Ejercicio"
   ]
  },
  {
   "cell_type": "code",
   "execution_count": 72,
   "metadata": {},
   "outputs": [
    {
     "name": "stdout",
     "output_type": "stream",
     "text": [
      "3.119202\n"
     ]
    }
   ],
   "source": [
    "from random import uniform\n",
    "import numpy as np\n",
    "\n",
    "N = 2000\n",
    "x = []\n",
    "y = []\n",
    "P = []\n",
    "\n",
    "for i in range(N):\n",
    "    x.append(uniform(-1,1))\n",
    "for i in range(N):\n",
    "    y.append(uniform(-1,1))\n",
    "\n",
    "si = 0\n",
    "no = 0\n",
    "\n",
    "for i in range(len(x)):\n",
    "    P.append(0)\n",
    "    for j in range(len(y)):\n",
    "        if (x[i]**2)+(y[j]**2) > 1:\n",
    "            no = no+1\n",
    "        else:\n",
    "            si = si+1\n",
    "            \n",
    "    P[i] =  (si/(si+no))\n",
    "\n",
    "Pi = (4*si)/(no+si)\n",
    "\n",
    "print(Pi)"
   ]
  },
  {
   "cell_type": "markdown",
   "metadata": {},
   "source": [
    "$Comentarios:$\n",
    "\n",
    "- A medida que N tiende a infinito el valor de $\\pi$ calculado converge al valor conocido $(3.1415..)$. La probabilidad P(N) es fluctuante pero a medida que aumenta el valor de N se estabiliza alrededor de $\\pi/4 = 0.7854$ que es el valor esperado con la relación de áreas. El anterior comportamiento se puede evidenciar el grafico siguiente. \n"
   ]
  },
  {
   "cell_type": "code",
   "execution_count": 74,
   "metadata": {},
   "outputs": [
    {
     "data": {
      "image/png": "[encoded data removed]",
      "text/plain": [
       "<matplotlib.figure.Figure at 0x7fc5b4db1208>"
      ]
     },
     "metadata": {},
     "output_type": "display_data"
    }
   ],
   "source": [
    "import matplotlib.pyplot as plt\n",
    "plt.plot (P)\n",
    "plt.ylabel(\"P(N)\")\n",
    "plt.xlabel(\"N\")\n",
    "plt.title(\"Probabilidad que el punto pertenezca al círculo\")\n",
    "plt.show()"
   ]
  },
  {
   "cell_type": "markdown",
   "metadata": {},
   "source": [
    " - Si $f(x_o, y_o)=0$ el punto pertenece al perímetro del círuculo, así pues se cuenta como dentro del mismo.\n",
    " - La probabilidad de que la función sea igual a cero es la calculada a continuación:\n",
    " "
   ]
  },
  {
   "cell_type": "code",
   "execution_count": null,
   "metadata": {},
   "outputs": [],
   "source": []
  }
 ],
 "metadata": {
  "kernelspec": {
   "display_name": "Python 3.6",
   "language": "python",
   "name": "python36"
  },
  "language_info": {
   "codemirror_mode": {
    "name": "ipython",
    "version": 3
   },
   "file_extension": ".py",
   "mimetype": "text/x-python",
   "name": "python",
   "nbconvert_exporter": "python",
   "pygments_lexer": "ipython3",
   "version": "3.6.3"
  }
 },
 "nbformat": 4,
 "nbformat_minor": 2
}
