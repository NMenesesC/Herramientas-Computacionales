{
 "cells": [
  {
   "cell_type": "markdown",
   "metadata": {
    "collapsed": true
   },
   "source": [
    "# Propuesta de proyecto - Herramientas computacionales\n",
    "\n",
    "#### Nicolás Meneses Cortés - 201415808\n",
    "\n",
    "#### Daniel Felipe Jaramillo Arenas - 201414139"
   ]
  },
  {
   "cell_type": "markdown",
   "metadata": {},
   "source": [
    "## Detección y lectura de matrículas de vehículos automotores mediante procesamiento de imágenes\n",
    "\n",
    "Debido al crecimiento exponencial del parque automotor en el país cada día es más complejo registrar el comportamiento de los automóviles en los diferentes parqueaderos, conjuntos residenciales, peajes y vías entre otros. El censo automotor en territorio nacional al año 2016 es de 12 millones y medio de unidades [5], lo cual hace que los métodos de registro de información actuales sean obsoletos y poco eficientes. \n",
    "\n",
    "En este proyecto se pretende implementar un código con el cual se logre automatizar el proceso de detección y lectura de la información registrada en la matrícula de los vehículos. Lo anterior por medio del análisis de imágenes, que consiste en binarizar y segmentar por medio de detección de bordes los símbolos impresos en la placa del vehículo.  \n",
    "\n",
    "A continuación, se desglosarán los algoritmos sugeridos para la ejecución del proyecto. Se tiene una revisión del trabajo previo en el tema que se pretende simplificar y dirigir a las funciones que podemos implementar con el conocimiento adquirido a lo largo de la clase. Para lo anterior, el proyecto se basa en el documento [*\"An Automatic & Robust Vehicle License Plate Recognition System\"*](https://notebooks.azure.com/NMenesesC/libraries/HerramientasComputacionales/html/07Proyecto/Paper%20proyecto%20herramientas.pdf).  de *Kripa Iye* y en otros recursos como lo es Tesseract el cual es un motor OCR libre para el reconocimiento de imágenes.   \n",
    "\n",
    "### Metodología\n",
    "\n",
    "#### Etapas:\n",
    "\n",
    "- Localización de la placa.\n",
    "\n",
    "La localización de la placa consiste en una relación entre las aristas de la misma. Se tiene que la razón entre la arista horizontal y la vertical siempre será la misma para una placa colombiana, lo cual se puede determinar a partir de un reconocimiento de bordes en la imagen. Así pues, detectando los diferentes rectángulos mediante los métodos estudiados en el taller de granulometría se puede ubicar espacialmente los pixeles en los cuales está la matrícula del vehículo.\n",
    "\n",
    "Por su parte existe la alternativa planteada por *Iye* en el paper en la cual se filtra, binariza la imagen y posteriormente se realiza un análisis de líneas de escaneo y aproximación. El filtro de la imagen es similar al que se ha desarrollado a lo largo del curso, sin embargo, el método de detección de la geometría es diferente. En este caso para no ubicar la geometría a partir de bordes se segmentan las regiones donde hay componentes conectados, tal como en una matrícula. Dicho segmento se dimensiona y evalúa a ver si cumple con las características de una placa (únicamente segmentos rectangulares).\n",
    "\n",
    "A continuación se presenta el ejemplo de una región segmentada tomada del parper de *Iye*, en esta se presentan tres líneas de escaneo con las cuales se identifican los componentes conectados (caracteres de la placa). \n",
    "\n",
    " <img src=\"Recursos/imagen.PNG\",width=300,height=300> [1]\n",
    " \n",
    "Las líneas de escaneo son utilizadas para realizar un conteo de la cantidad de veces que alterna el valor binario (0/1) a lo largo del vector (líneas amarillas en la imagen). Posteriormente, se hace una búsqueda de la línea con más cambios que es en este caso la que coincide con la región en la cual se ubica la matrícula. Entre más líneas de escaneo se utilicen se obtiene un resultado más preciso de la ubicación de la placa.  \n",
    "\n",
    "Para finalizar el proceso de localización de la placa *Iye* sugiere un re-procesamiento de la imagen binarizada con la imagen original en la región segmentada. Lo anterior para obtener los caracteres bien detallados, ya que cuando se presentan geometrías redondas como en los números (8, 0, 6) se pueden omitir detalles de la composición del caracter y confundirlos entre sí en la identificación. \n",
    "\n",
    "- Extracción de caracteres.\n",
    "\n",
    "Para la extracción de caracteres una opción es implementar el mismo concepto de identificación de bordes de la imagen, sin embargo, esto implica un procesamiento mucho más riguroso, ya que no se pueden identificar relaciones geométricas simples para cada uno de los 37 ceracteres requeridos (letras del abecedario y números del 0-9). Por lo anterior, se deben implementar técnicas más sencillas con las cuales se pueda volver a segmentar la imagen (en este caso la región de cada símbolo). Una opción es la distribución geométrica de los números y letras en la placa, la ubicación y tamaño de los mismos varía muy poco lo que permite dirigir el seccionamiento de la imagen a través del análisis de coordenadas en la misma. Para poder ejecutar el método descrito se van a utilizar conceptos planteados por *Iye* en el paper los cuales se describen a continuación. \n",
    "\n",
    "*Iye* por su parte, utiliza la remoción de bordes y aproximación de la altura para extraer los caracteres de la porción de imagen segmentada. El proceso de eliminación de bordes consiste en limpiar la región de fondo y ruido blanco presente, lo que permite dejar los caracteres bien delimitados. El proceso descrito se presenta en las siguientes imágenes donde está el segmento antes y después de la remoción de bordes.\n",
    "\n",
    "<img src=\"Recursos/imagen2.PNG\",width=300,height=300> [1], <img src=\"Recursos/imagen3.PNG\",width=300,height=300> [1]\n",
    "\n",
    "Ahora bien, para extraer cada caracter se hace la aproximación de la altura de los mismos. Para esto, se ubica el caracter con mayor altura en el segmento de símbolos conectados, el cual se convierte en el *\"objetivo\"* de referencia para extraer los otros caracteres en el rango de altura delimitado, esto con el fin de descartar el resto de componentes en el segmento. \n",
    "\n",
    "En el anterior procedimiento se deben solventar problemas tales como las \"fisuras\" en los caracteres (lo cual estropearía la extracción de los mismos). Dichas fisuras se presentan por iluminaciones en la imagen, lo que se traduce como una segmentación a lo largo del caracter. Así pues, se debe \"remendar\" el caracter convirtiendo pixeles adyacentes de negro a blanco o viceversa para pulir el contorno de cada caracter. \n",
    "\n",
    "- Reconocimiento de caracteres.\n",
    "\n",
    "El reconocimiento de cada caracter propuesto por *Iye* en el documento se basa en buscar correlaciones entre cada uno de los caracteres y una base de datos previamente creada, arrojando como texto aquel caracter que posee el número de correlación más grande. Para poder lograr este método se requiere que cada caracter se re escale a un tamaño determinado por las imágenes de referencia en la base de datos.\n",
    "\n",
    "Una segunda opción que se plantea como posible solución a esta última fase de reconocimiento, es el uso del motor Tesseract el cual se puede usar desde Python y permite, a partir de una imagen binarizada obtener como texto los caracteres que se encuentran en ella. Esta opción tiene dentro de sus ventajas que no se requeriría segmentar la imagen de la placa por caracteres, pero requiere de mayor trabajo en lo que concierne a la calidad de la imagen ya que la presencia de ruido afecta drásticamente la precisión del motor. A continuacion, se muestra un ejemplo tomado de la referencia 2 donde se utiliza Tesseract en una imagen y su resultado:\n",
    "\n",
    " <img src=\"Recursos/Tesseract.JPG\",width=300,height=300>\n",
    " \n",
    " y el resultado fue:\n",
    " \n",
    " <img src=\"Recursos/Tesseractresul.JPG\",width=700,height=700>"
   ]
  },
  {
   "cell_type": "markdown",
   "metadata": {},
   "source": [
    "## Referencias\n",
    "\n",
    "[1] \tK. Iyer, «An Automatic & Robust Vehicle License Plate Recognition System,» University of Kerala, Kerala, 2008.\n",
    "\n",
    "[2] \tA. Rosebrock, «Using Tesseract OCR with Python,» pyimagesearch, [En línea]. Available:\n",
    "https://www.pyimagesearch.com/2017/07/10/using-tesseract-ocr-python/. [Último acceso: 21 04 2018].\n",
    "\n",
    "[3] \tA. Rosebrock, «Credit card OCR with OpenCV and Python,» pyimagesearch, [En línea]. Available: https://www.pyimagesearch.com/2017/07/17/credit-card-ocr-with-opencv-and-python/. [Último acceso: 24 04 2018].\n",
    "\n",
    "[4] \tstack overflow, «How to recognize vehicle license / number plate (ANPR) from an image?,» [En línea]. Available: https://stackoverflow.com/questions/981378/how-to-recognize-vehicle-license-number-plate-anpr-from-an-image. [Último acceso: 24 04 2018].\n",
    "\n",
    "[5] \tEl Espectador, «El parque automotor colombiano supera los 12’600.000 unidades,» [En línea]. Available: https://www.elespectador.com/noticias/economia/el-parque-automotor-colombiano-supera-los-12600000-unid-articulo-654036. [Último acceso: 23 04 2018]."
   ]
  }
 ],
 "metadata": {
  "kernelspec": {
   "display_name": "Python 3.6",
   "language": "python",
   "name": "python36"
  },
  "language_info": {
   "codemirror_mode": {
    "name": "ipython",
    "version": 3
   },
   "file_extension": ".py",
   "mimetype": "text/x-python",
   "name": "python",
   "nbconvert_exporter": "python",
   "pygments_lexer": "ipython3",
   "version": "3.6.3"
  }
 },
 "nbformat": 4,
 "nbformat_minor": 2
}
