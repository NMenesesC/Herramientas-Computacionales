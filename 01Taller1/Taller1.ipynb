{
 "cells": [
  {
   "cell_type": "markdown",
   "metadata": {
    "collapsed": true
   },
   "source": [
    "## Análisis de la metodología para la verificación y construcción de series históricas para el cálculo de la ENFICC en plantas solares fotovoltaicas."
   ]
  },
  {
   "cell_type": "code",
   "execution_count": 1,
   "metadata": {},
   "outputs": [
    {
     "name": "stdout",
     "output_type": "stream",
     "text": [
      "Populating the interactive namespace from numpy and matplotlib\n"
     ]
    }
   ],
   "source": [
    "import os\n",
    "import pandas as pd\n",
    "%pylab inline"
   ]
  },
  {
   "cell_type": "markdown",
   "metadata": {},
   "source": [
    "Se leen todos los archivos de data: (despuess)"
   ]
  },
  {
   "cell_type": "code",
   "execution_count": 2,
   "metadata": {},
   "outputs": [],
   "source": [
    "base_dir = os.path.join( '.','data')\n",
    "output_dir = os.path.join( '.','output')\n",
    "ciudad = 'Valledupar'\n",
    "fuente = 'IDEAM'\n",
    "serie_csv = os.path.join(base_dir,ciudad,fuente+'.csv')\n",
    "serie_ideam = pd.read_csv(serie_csv, sep = ';',\n",
    "                encoding='latin-1')\n"
   ]
  },
  {
   "cell_type": "code",
   "execution_count": 3,
   "metadata": {},
   "outputs": [],
   "source": [
    "base_dir = os.path.join( '.','data')\n",
    "output_dir = os.path.join( '.','output')\n",
    "ciudad = 'Valledupar'\n",
    "fuente = 'NREL'\n",
    "serie_csv = os.path.join(base_dir,ciudad,fuente+'.csv')\n",
    "serie_nrel = pd.read_csv(serie_csv, sep = ';',\n",
    "                encoding='latin-1')\n"
   ]
  },
  {
   "cell_type": "markdown",
   "metadata": {},
   "source": [
    "Función MCP"
   ]
  },
  {
   "cell_type": "code",
   "execution_count": 44,
   "metadata": {},
   "outputs": [],
   "source": [
    "def mcp(serieReal, serieSatelite):\n",
    "\n",
    "    mediaY = serieReal[\"IDEAM\"].mean()\n",
    "    mediaX = serieSatelite[\"NREL\"].mean()\n",
    "    desvY = serieReal[\"IDEAM\"].std(ddof = 0)\n",
    "    desvX = serieSatelite[\"NREL\"].std(ddof = 0)\n",
    "    \n",
    "    serieAjustada = pd.DataFrame((mediaY-((desvY/desvX)*mediaX)) + ((desvY/desvX)*serieSatelite['NREL']))\n",
    "    serieAjustada[serieAjustada<0]=0\n",
    "    serie_ajustada = serieSatelite.copy()\n",
    "    \n",
    "    \n",
    "    del serie_ajustada['NREL']  \n",
    "   \n",
    "    serie_ajustada['GHIdiario'] = serieAjustada\n",
    "        \n",
    "       \n",
    "    return serie_ajustada"
   ]
  },
  {
   "cell_type": "code",
   "execution_count": 45,
   "metadata": {},
   "outputs": [],
   "source": [
    "agno = 2006\n",
    "mes = 3\n",
    "\n",
    "serie_corta_IDEAM = serie_ideam[(serie_ideam['AÑO'] == agno) &\n",
    "                 (serie_ideam['MES'] <= mes)]\n",
    "\n",
    "serie_corta_NREL  = serie_nrel[(serie_nrel['AÑO'] == agno) &\n",
    "                 (serie_nrel['MES'] <= mes)]\n",
    "\n"
   ]
  },
  {
   "cell_type": "code",
   "execution_count": 46,
   "metadata": {},
   "outputs": [],
   "source": [
    "ajuste = mcp(serie_corta_IDEAM, serie_nrel)\n"
   ]
  },
  {
   "cell_type": "code",
   "execution_count": 47,
   "metadata": {},
   "outputs": [],
   "source": [
    "def energia(serie_ener):\n",
    "    \n",
    "    def ghi_mensual(serie_horaria):\n",
    "        agnos = sorted(serie_horaria['AÑO'].unique())\n",
    "        ghi_df = pd.DataFrame(columns=[\"AÑO\", \"MES\", \"DIAS\", \"GHImes\"])\n",
    "        for agno in range(2006,2016):\n",
    "            for mes in range(1,13):\n",
    "                nombre_energia = list(serie_horaria)[-1]\n",
    "                dias = sorted(serie_horaria[(serie_horaria['AÑO'] == agno) &\n",
    "                            (serie_horaria['MES'] == mes)][\"DIA\"].unique())\n",
    "                ghi_mes = serie_horaria.loc[((serie_horaria[\"AÑO\"] == agno)\n",
    "                                & (serie_horaria[\"MES\"] == mes)),\n",
    "                                            nombre_energia].sum()/1000\n",
    "                ghi_dict = {\"AÑO\":agno, \"MES\":mes, \"DIAS\":dias[-1],\n",
    "                            \"GHImes\":ghi_mes}\n",
    "                ghi_df = ghi_df.append(ghi_dict, ignore_index=True)\n",
    "        return ghi_df\n",
    "\n",
    "    def ghi_dia(serie_ghi_mensual):\n",
    "        agnos = sorted(serie_ghi_mensual['AÑO'].unique())\n",
    "        ghi_df = pd.DataFrame(columns=[\"AÑO\", \"MES\", \"GHIdiario\"])\n",
    "        for agno in range(2006,2016):\n",
    "            for mes in range(1,13):\n",
    "                dias = serie_ghi_mensual.loc[((serie_ghi_mensual[\"AÑO\"] == agno)\n",
    "                                & (serie_ghi_mensual[\"MES\"] == mes))\n",
    "                                             ,\"DIAS\"].item()\n",
    "                ghi_diario = serie_ghi_mensual.loc[(\n",
    "                    (serie_ghi_mensual[\"AÑO\"] == agno)\n",
    "                                & (serie_ghi_mensual[\"MES\"] == mes)),\n",
    "                    \"GHImes\"].item()/dias\n",
    "                ghi_dict = {\"AÑO\":agno, \"MES\":mes, \"GHIdiario\":ghi_diario}\n",
    "                ghi_df = ghi_df.append(ghi_dict, ignore_index=True)\n",
    "        return ghi_df\n",
    "\n",
    "    \n",
    "    ghi_mensual_loc = ghi_mensual(serie_ener)\n",
    "    ghi_diario_loc = ghi_dia(ghi_mensual_loc)\n",
    "    serie = sorted(ghi_diario_loc[\"GHIdiario\"])\n",
    "    numdatos = range(len(serie))\n",
    "    percentil = 0.01\n",
    "    enficc = ghi_diario_loc.quantile(q=percentil, \n",
    "                                     numeric_only=True)[\"GHIdiario\"]\n",
    "    print('La ENFICC 99% es: ', enficc)\n",
    "    \n",
    "    return serie, enficc, numdatos"
   ]
  },
  {
   "cell_type": "code",
   "execution_count": 60,
   "metadata": {},
   "outputs": [],
   "source": [
    "def grafica(energia_ideam, energia_nrel, energia_ajustada):\n",
    "    pylab.xlabel(\"Datos\")\n",
    "    pylab.ylabel(\"Energía/Energía Base IDEAM\")\n",
    "    pylab.plot(energia_ideam[2],energia_ideam[0],'-k', label='IDEAM')\n",
    "    pylab.plot(energia_nrel[2],energia_nrel[0],'-r', label='NREL')\n",
    "    pylab.plot(energia_ajustada[2],energia_ajustada[0],'-b', label='AJUSTADA')\n",
    "    pylab.legend(loc='upper left')\n",
    "    #pylab.savefig(os.path.join(output_dir,'valledupar_IDEAM.png'), dpi=600)\n",
    "    "
   ]
  },
  {
   "cell_type": "code",
   "execution_count": 61,
   "metadata": {},
   "outputs": [
    {
     "name": "stdout",
     "output_type": "stream",
     "text": [
      "La ENFICC 99% es:  4.56900737661\n",
      "La ENFICC 99% es:  5.06672598387\n",
      "La ENFICC 99% es:  4.86511516673\n"
     ]
    }
   ],
   "source": [
    "ideam = energia(serie_ideam)\n",
    "nrel = energia(serie_nrel)\n",
    "ajustada = energia(ajuste)"
   ]
  },
  {
   "cell_type": "code",
   "execution_count": 62,
   "metadata": {},
   "outputs": [
    {
     "data": {
      "image/png": "[encoded data removed]",
      "text/plain": [
       "<matplotlib.figure.Figure at 0x7f45799c7208>"
      ]
     },
     "metadata": {},
     "output_type": "display_data"
    }
   ],
   "source": [
    "grafica(ideam,nrel,ajustada)"
   ]
  },
  {
   "cell_type": "code",
   "execution_count": null,
   "metadata": {},
   "outputs": [],
   "source": []
  }
 ],
 "metadata": {
  "kernelspec": {
   "display_name": "Python 3.6",
   "language": "python",
   "name": "python36"
  },
  "language_info": {
   "codemirror_mode": {
    "name": "ipython",
    "version": 3
   },
   "file_extension": ".py",
   "mimetype": "text/x-python",
   "name": "python",
   "nbconvert_exporter": "python",
   "pygments_lexer": "ipython3",
   "version": "3.6.3"
  }
 },
 "nbformat": 4,
 "nbformat_minor": 2
}
