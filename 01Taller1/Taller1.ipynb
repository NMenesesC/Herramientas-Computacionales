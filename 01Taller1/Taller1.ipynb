{
 "cells": [
  {
   "cell_type": "markdown",
   "metadata": {
    "collapsed": true
   },
   "source": [
    "## Análisis de la metodología para la verificación y construcción de series históricas para el cálculo de la ENFICC en plantas solares fotovoltaicas."
   ]
  },
  {
   "cell_type": "markdown",
   "metadata": {},
   "source": [
    "Se importan las diferentes librerías:"
   ]
  },
  {
   "cell_type": "code",
   "execution_count": 52,
   "metadata": {},
   "outputs": [
    {
     "name": "stdout",
     "output_type": "stream",
     "text": [
      "Populating the interactive namespace from numpy and matplotlib\n"
     ]
    }
   ],
   "source": [
    "import os\n",
    "import pandas as pd\n",
    "from scipy import stats\n",
    "%pylab inline"
   ]
  },
  {
   "cell_type": "markdown",
   "metadata": {},
   "source": [
    "Funciones para leer los archivos de data:"
   ]
  },
  {
   "cell_type": "code",
   "execution_count": 53,
   "metadata": {},
   "outputs": [],
   "source": [
    "def leerIdeam(ciudad):\n",
    "    \n",
    "    base_dir = os.path.join( '.','data')\n",
    "    output_dir = os.path.join( '.','output')\n",
    "    #ciudad = 'Valledupar'\n",
    "    fuente = 'IDEAM'\n",
    "    serie_csv = os.path.join(base_dir,ciudad,fuente+'.csv')\n",
    "    serie_ideam = pd.read_csv(serie_csv, sep = ';',\n",
    "                    encoding='latin-1')\n",
    "    return serie_ideam\n",
    "\n",
    "def leerNrel(ciudad):\n",
    "    base_dir = os.path.join( '.','data')\n",
    "    output_dir = os.path.join( '.','output')\n",
    "    #ciudad = 'Valledupar'\n",
    "    fuente = 'NREL'\n",
    "    serie_csv = os.path.join(base_dir,ciudad,fuente+'.csv')\n",
    "    serie_nrel = pd.read_csv(serie_csv, sep = ';',\n",
    "                    encoding='latin-1')\n",
    "    return serie_nrel\n",
    "    "
   ]
  },
  {
   "cell_type": "markdown",
   "metadata": {},
   "source": [
    "## Punto 1: Función ENFICC"
   ]
  },
  {
   "cell_type": "markdown",
   "metadata": {},
   "source": [
    "Se crea la función ENFICC, que tiene como entrada una serie de datos y retorna la ENFICC 99%, además de la seire de la distribución de energía."
   ]
  },
  {
   "cell_type": "code",
   "execution_count": 54,
   "metadata": {},
   "outputs": [],
   "source": [
    "def ENFICC(serie_ener):\n",
    "    \n",
    "    def ghi_mensual(serie_horaria):\n",
    "        agnos = sorted(serie_horaria['AÑO'].unique())\n",
    "        ghi_df = pd.DataFrame(columns=[\"AÑO\", \"MES\", \"DIAS\", \"GHImes\"])\n",
    "        for agno in range(2006,2016):\n",
    "            for mes in range(1,13):\n",
    "                nombre_energia = list(serie_horaria)[-1]\n",
    "                dias = sorted(serie_horaria[(serie_horaria['AÑO'] == agno) &\n",
    "                            (serie_horaria['MES'] == mes)][\"DIA\"].unique())\n",
    "                ghi_mes = serie_horaria.loc[((serie_horaria[\"AÑO\"] == agno)\n",
    "                                & (serie_horaria[\"MES\"] == mes)),\n",
    "                                            nombre_energia].sum()/1000\n",
    "                ghi_dict = {\"AÑO\":agno, \"MES\":mes, \"DIAS\":dias[-1],\n",
    "                            \"GHImes\":ghi_mes}\n",
    "                ghi_df = ghi_df.append(ghi_dict, ignore_index=True)\n",
    "        return ghi_df\n",
    "\n",
    "    def ghi_dia(serie_ghi_mensual):\n",
    "        agnos = sorted(serie_ghi_mensual['AÑO'].unique())\n",
    "        ghi_df = pd.DataFrame(columns=[\"AÑO\", \"MES\", \"GHIdiario\"])\n",
    "        for agno in range(2006,2016):\n",
    "            for mes in range(1,13):\n",
    "                dias = serie_ghi_mensual.loc[((serie_ghi_mensual[\"AÑO\"] == agno)\n",
    "                                & (serie_ghi_mensual[\"MES\"] == mes))\n",
    "                                             ,\"DIAS\"].item()\n",
    "                ghi_diario = serie_ghi_mensual.loc[(\n",
    "                    (serie_ghi_mensual[\"AÑO\"] == agno)\n",
    "                                & (serie_ghi_mensual[\"MES\"] == mes)),\n",
    "                    \"GHImes\"].item()/dias\n",
    "                ghi_dict = {\"AÑO\":agno, \"MES\":mes, \"GHIdiario\":ghi_diario}\n",
    "                ghi_df = ghi_df.append(ghi_dict, ignore_index=True)\n",
    "        return ghi_df\n",
    "\n",
    "    \n",
    "    ghi_mensual_loc = ghi_mensual(serie_ener)\n",
    "    ghi_diario_loc = ghi_dia(ghi_mensual_loc)\n",
    "    serie = sorted(ghi_diario_loc[\"GHIdiario\"])\n",
    "    numdatos = range(len(serie))\n",
    "    percentil = 0.01\n",
    "    enficc = ghi_diario_loc.quantile(q=percentil, \n",
    "                                     numeric_only=True)[\"GHIdiario\"]\n",
    "    print('La ENFICC 99% es: ', enficc)\n",
    "    \n",
    "    return serie, enficc, numdatos"
   ]
  },
  {
   "cell_type": "markdown",
   "metadata": {},
   "source": [
    "## Punto 2: Función para graficar distribución de energía."
   ]
  },
  {
   "cell_type": "markdown",
   "metadata": {},
   "source": [
    "Se crea la función que grafica 3 series de datos (IDEAM, NREL y NREL AJUSTADA)"
   ]
  },
  {
   "cell_type": "code",
   "execution_count": 55,
   "metadata": {},
   "outputs": [],
   "source": [
    "def grafica(energia_ideam, energia_nrel, energia_ajustada):\n",
    "    pylab.xlabel(\"Datos\")\n",
    "    pylab.ylabel(\"Energía/Energía Base IDEAM\")\n",
    "    pylab.plot(energia_ideam[2],energia_ideam[0]/energia_ideam[0][0],'-k', label='IDEAM')\n",
    "    pylab.plot(energia_nrel[2],energia_nrel[0]/energia_ideam[0][0],'-r', label='NREL')\n",
    "    pylab.plot(energia_ajustada[2],energia_ajustada[0]/energia_ideam[0][0],'-b', label='NREL AJUSTADA')\n",
    "    pylab.legend(loc='upper left')\n",
    "    #pylab.savefig(os.path.join(output_dir,'valledupar_IDEAM.png'), dpi=600)\n",
    "    "
   ]
  },
  {
   "cell_type": "markdown",
   "metadata": {},
   "source": [
    "## Punto 3: Función MCP"
   ]
  },
  {
   "cell_type": "markdown",
   "metadata": {},
   "source": [
    "Se crea la función para la metrodología Medición-Correlación-Predicción (MCP), con las series de IDEAM y NREL como entrada. se implementa la función cortar, para obtener un segmente de la serie de 10 años. "
   ]
  },
  {
   "cell_type": "code",
   "execution_count": 56,
   "metadata": {},
   "outputs": [],
   "source": [
    "def cortar(serie, agno, mes):\n",
    "    serie_corta  = serie[(serie['AÑO'] == agno) &\n",
    "                 (serie['MES'] <= mes)]\n",
    "    return serie_corta"
   ]
  },
  {
   "cell_type": "code",
   "execution_count": 57,
   "metadata": {},
   "outputs": [],
   "source": [
    "def MCP(serieReal, serieSatelite, agno, mes):\n",
    "\n",
    "    ideamCorta = cortar(serieReal,agno,mes)\n",
    "    \n",
    "    \n",
    "    mediaY = ideamCorta[\"IDEAM\"].mean()\n",
    "    mediaX = serieSatelite[\"NREL\"].mean()\n",
    "    desvY = ideamCorta[\"IDEAM\"].std(ddof = 0)\n",
    "    desvX = serieSatelite[\"NREL\"].std(ddof = 0)\n",
    "    \n",
    "    serieAjustada = pd.DataFrame((mediaY-((desvY/desvX)*mediaX)) + ((desvY/desvX)*serieSatelite['NREL']))\n",
    "    serieAjustada[serieAjustada<0]=0\n",
    "    serie_ajustada = serieSatelite.copy()\n",
    "    \n",
    "    \n",
    "    del serie_ajustada['NREL']  \n",
    "   \n",
    "    serie_ajustada['GHIdiario'] = serieAjustada\n",
    "        \n",
    "       \n",
    "    return serie_ajustada"
   ]
  },
  {
   "cell_type": "markdown",
   "metadata": {},
   "source": [
    "## Punto 4: Funciones de error "
   ]
  },
  {
   "cell_type": "markdown",
   "metadata": {},
   "source": [
    "### RMS (RMSEn)\n",
    "Se implementa la función:"
   ]
  },
  {
   "cell_type": "code",
   "execution_count": 79,
   "metadata": {},
   "outputs": [],
   "source": [
    "def RMSEn(obs, mod):\n",
    "         \n",
    "    obs_np = obs['IDEAM'].values\n",
    "    mod_np = mod['GHIdiario'].values\n",
    "    obs_max = np.max(obs_np) \n",
    "    mod_min = np.min(mod_np)\n",
    "    \n",
    "    error = (np.sqrt(((obs_np-mod_np)**2).mean()))/(obs_max-mod_min)\n",
    "    print('El error RMSEn es: ', error)\n",
    "    return "
   ]
  },
  {
   "cell_type": "markdown",
   "metadata": {},
   "source": [
    "### MBE"
   ]
  },
  {
   "cell_type": "code",
   "execution_count": 80,
   "metadata": {},
   "outputs": [],
   "source": [
    "def MBE(obs, mod):\n",
    "    obs_np = obs['IDEAM'].values\n",
    "    mod_np = mod['GHIdiario'].values\n",
    "    \n",
    "    error = (np.sum(mod_np-obs_np))/(np.sum(obs_np))\n",
    "    print('El error MBE es: ', error)\n",
    "    return "
   ]
  },
  {
   "cell_type": "markdown",
   "metadata": {},
   "source": [
    "### Kolgomorov-smagorinski (KSI%)"
   ]
  },
  {
   "cell_type": "code",
   "execution_count": 86,
   "metadata": {},
   "outputs": [],
   "source": [
    "def KSI(obs, mod):\n",
    "    \n",
    "    error = scipy.stats.mstats.ks_2samp(obs, mod)\n",
    "    \n",
    "    print('El valor del test KSI y el p-value son: ', error)\n",
    "    \n",
    "    return "
   ]
  },
  {
   "cell_type": "markdown",
   "metadata": {},
   "source": [
    "## Código para correr las funciones"
   ]
  },
  {
   "cell_type": "code",
   "execution_count": 87,
   "metadata": {},
   "outputs": [],
   "source": [
    "serie_ideam = leerIdeam('Medellin')\n",
    "serie_nrel = leerNrel('Medellin')\n",
    "ajuste = MCP(serie_ideam,serie_nrel,2012,2)"
   ]
  },
  {
   "cell_type": "code",
   "execution_count": 88,
   "metadata": {},
   "outputs": [
    {
     "name": "stdout",
     "output_type": "stream",
     "text": [
      "La ENFICC 99% es:  3.53519358791\n",
      "La ENFICC 99% es:  4.31134824731\n",
      "La ENFICC 99% es:  3.42500975866\n"
     ]
    }
   ],
   "source": [
    "ideam = ENFICC(serie_ideam)\n",
    "nrel = ENFICC(serie_nrel)\n",
    "ajustada = ENFICC(ajuste)"
   ]
  },
  {
   "cell_type": "code",
   "execution_count": 89,
   "metadata": {},
   "outputs": [
    {
     "data": {
      "image/png": "[encoded data removed]",
      "text/plain": [
       "<matplotlib.figure.Figure at 0x7f3913dbc780>"
      ]
     },
     "metadata": {},
     "output_type": "display_data"
    }
   ],
   "source": [
    "grafica(ideam,nrel,ajustada)"
   ]
  },
  {
   "cell_type": "code",
   "execution_count": 90,
   "metadata": {},
   "outputs": [
    {
     "name": "stdout",
     "output_type": "stream",
     "text": [
      "El error RMSEn es:  0.156566939913\n",
      "El error MBE es:  0.069360650035\n",
      "El valor del test KSI y el p-value son:  (0.099999999999998618, 1.0760372320063532e-31)\n"
     ]
    },
    {
     "data": {
      "text/plain": [
       "(None, None, None)"
      ]
     },
     "execution_count": 90,
     "metadata": {},
     "output_type": "execute_result"
    }
   ],
   "source": [
    "ideam_corta = cortar(serie_ideam,2012,2)\n",
    "ajustada_corta = cortar(ajuste,2012,2)\n",
    "RMSEn(ideam_corta, ajustada_corta),MBE(ideam_corta, ajustada_corta),KSI(ideam_corta, ajustada_corta)"
   ]
  },
  {
   "cell_type": "markdown",
   "metadata": {},
   "source": [
    "## Punto 5: Análisis"
   ]
  },
  {
   "cell_type": "markdown",
   "metadata": {},
   "source": [
    "Para analizar la eficacia del método MCP se va a realizar el procedimiento descrito en los anteriores puntos (graficar y calcular errores) para varias zonas y periodos de tiempo. \n",
    "\n",
    "En primera instancia se analiza Medellín"
   ]
  },
  {
   "cell_type": "code",
   "execution_count": null,
   "metadata": {},
   "outputs": [],
   "source": []
  },
  {
   "cell_type": "code",
   "execution_count": null,
   "metadata": {},
   "outputs": [],
   "source": []
  }
 ],
 "metadata": {
  "kernelspec": {
   "display_name": "Python 3.6",
   "language": "python",
   "name": "python36"
  },
  "language_info": {
   "codemirror_mode": {
    "name": "ipython",
    "version": 3
   },
   "file_extension": ".py",
   "mimetype": "text/x-python",
   "name": "python",
   "nbconvert_exporter": "python",
   "pygments_lexer": "ipython3",
   "version": "3.6.3"
  }
 },
 "nbformat": 4,
 "nbformat_minor": 2
}
